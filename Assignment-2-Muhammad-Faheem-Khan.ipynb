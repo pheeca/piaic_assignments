{
 "cells": [
  {
   "cell_type": "markdown",
   "metadata": {},
   "source": [
    "**ASSIGEMENT 02 OFFICIAL**\n",
    "\n",
    "**NAME: Muhammad Faheem Khan**\n",
    "\n",
    "**ROLL.NO: AIC027435**\n",
    "\n",
    "**6:45PM TO 9:45PM**\n",
    "\n",
    "**CAMPUS SAYLANI HEAD OFFICE**"
   ]
  },
  {
   "cell_type": "markdown",
   "metadata": {},
   "source": [
    "Q1:\n",
    "Store a message in a variable, and then print that message."
   ]
  },
  {
   "cell_type": "code",
   "execution_count": 1,
   "metadata": {},
   "outputs": [
    {
     "name": "stdout",
     "output_type": "stream",
     "text": [
      "Message\n"
     ]
    }
   ],
   "source": [
    "NAME=\"Message\"\n",
    "print(NAME)"
   ]
  },
  {
   "cell_type": "markdown",
   "metadata": {},
   "source": [
    "Q2:\n",
    "Store a message in a variable, and print that message. Then change the value of your variable to a new message, and print the new message."
   ]
  },
  {
   "cell_type": "code",
   "execution_count": 40,
   "metadata": {},
   "outputs": [
    {
     "name": "stdout",
     "output_type": "stream",
     "text": [
      "Message1\n",
      "Message2\n"
     ]
    }
   ],
   "source": [
    "msg=\"Message1\"\n",
    "print(msg)\n",
    "msg=\"Message2\"\n",
    "print(msg)"
   ]
  },
  {
   "cell_type": "markdown",
   "metadata": {},
   "source": [
    "Q3:\n",
    "Store a person’s name in a variable, and print a message to that person. Your message should be simple, such as, “Hello Shahzad, would you like to learn some Python today?”"
   ]
  },
  {
   "cell_type": "code",
   "execution_count": 2,
   "metadata": {},
   "outputs": [
    {
     "name": "stdout",
     "output_type": "stream",
     "text": [
      "hello Muhammad Faheem Khan would you like to learn some Python today?\n"
     ]
    }
   ],
   "source": [
    "name = \"Muhammad Faheem Khan\"\n",
    "print(\"hello \" + name + \" would you like to learn some Python today?\")"
   ]
  },
  {
   "cell_type": "markdown",
   "metadata": {},
   "source": [
    "Q4:\n",
    "Store a person’s name in a variable, and then print that person’s name in lowercase, uppercase, and titlecase."
   ]
  },
  {
   "cell_type": "code",
   "execution_count": 3,
   "metadata": {},
   "outputs": [
    {
     "name": "stdout",
     "output_type": "stream",
     "text": [
      "Name:      MuHAmmaD Faheem khaN\n",
      "UpperCase: MUHAMMAD FAHEEM KHAN\n",
      "LowrCase:  muhammad faheem khan\n",
      "TitleCase: Muhammad Faheem Khan\n"
     ]
    }
   ],
   "source": [
    "name = \"MuHAmmaD Faheem khaN\"                    #first.method\n",
    "print('Name:      ' + name)\n",
    "print('UpperCase: ' + name.upper())\n",
    "print('LowrCase:  ' + name.lower())\n",
    "print('TitleCase: ' + name.title())\n"
   ]
  },
  {
   "cell_type": "markdown",
   "metadata": {},
   "source": [
    "Q5:\n",
    "Find a quote from a famous person you admire. Print the quote and the name of its author. Your output should look something like the following, including the quotation marks: Albert Einstein once said, “A person who never made a mistake never tried anything new.”"
   ]
  },
  {
   "cell_type": "code",
   "execution_count": 1,
   "metadata": {},
   "outputs": [
    {
     "name": "stdout",
     "output_type": "stream",
     "text": [
      "Bangambiki Habyarimana said, “The most successful men work smart, not hard.”\n"
     ]
    }
   ],
   "source": [
    "print('Bangambiki Habyarimana said, “The most successful men work smart, not hard.”')"
   ]
  },
  {
   "cell_type": "markdown",
   "metadata": {},
   "source": [
    "Q6:\n",
    "Write addition, subtraction, multiplication, and division operations that each result in the number 8. Be sure to enclose your operations in print statements to see the results. You should create four lines that look like this: print(5 + 3)"
   ]
  },
  {
   "cell_type": "code",
   "execution_count": 6,
   "metadata": {},
   "outputs": [
    {
     "name": "stdout",
     "output_type": "stream",
     "text": [
      "8\n",
      "8\n",
      "8\n",
      "8\n"
     ]
    }
   ],
   "source": [
    "print(4+4)\n",
    "print(15-7)\n",
    "print(2*4)\n",
    "print(16//2)"
   ]
  },
  {
   "cell_type": "markdown",
   "metadata": {},
   "source": [
    "Q7:\n",
    "Create a variable called number1 with the value of 8. Write a print statement to print number1 multiplied by 9."
   ]
  },
  {
   "cell_type": "code",
   "execution_count": 3,
   "metadata": {},
   "outputs": [
    {
     "name": "stdout",
     "output_type": "stream",
     "text": [
      "532\n"
     ]
    }
   ],
   "source": [
    "number1=8\n",
    "print(number1*9)"
   ]
  },
  {
   "cell_type": "markdown",
   "metadata": {},
   "source": [
    "Q8:\n",
    "Store your favorite number in a variable. Then, using that variable, create a message that reveals your favorite number. Print that message."
   ]
  },
  {
   "cell_type": "code",
   "execution_count": 6,
   "metadata": {},
   "outputs": [
    {
     "name": "stdout",
     "output_type": "stream",
     "text": [
      "My favorite number is: 70\n"
     ]
    }
   ],
   "source": [
    "fav = str(70)\n",
    "print(\"My favorite number is: \" + fav)"
   ]
  },
  {
   "cell_type": "markdown",
   "metadata": {},
   "source": [
    "Q9:\n",
    "Store your name and your age in a varibale called my_name and my_age. Use format method to print your name and your age. Your final output sholud be like this: OUTPUT: My name is Shahzad Ahsan and my age is 21. NOTE:Use both of the format methods which were discuss in the class."
   ]
  },
  {
   "cell_type": "code",
   "execution_count": 9,
   "metadata": {},
   "outputs": [
    {
     "name": "stdout",
     "output_type": "stream",
     "text": [
      "My name is Muhammad Faheem Khan and my age is 25\n"
     ]
    }
   ],
   "source": [
    "my_name = \"Muhammad Faheem Khan\"\n",
    "my_age = 25\n",
    "print(\"My name is \" + my_name + \" and my age is \" + str(my_age))"
   ]
  },
  {
   "cell_type": "code",
   "execution_count": 10,
   "metadata": {},
   "outputs": [
    {
     "name": "stdout",
     "output_type": "stream",
     "text": [
      "My name is Muhammad Faheem Khan  and my age is 25\n"
     ]
    }
   ],
   "source": [
    "my_name = \"Muhammad Faheem Khan\"\n",
    "my_age = 25\n",
    "print(\"My name is\", my_name, \" and my age is\", my_age)"
   ]
  },
  {
   "cell_type": "markdown",
   "metadata": {},
   "source": [
    "Q10: Write a Python program to check if a number is positive, negative or zero."
   ]
  },
  {
   "cell_type": "code",
   "execution_count": 13,
   "metadata": {},
   "outputs": [
    {
     "name": "stdout",
     "output_type": "stream",
     "text": [
      "the num is: -9\n",
      "the num is negative\n"
     ]
    }
   ],
   "source": [
    "num = int(input(\"the num is: \"))\n",
    "if num>0:\n",
    "    print(\"the num is positive\")\n",
    "elif num<0:\n",
    "    print(\"the num is negative\")\n",
    "else:\n",
    "    print(\"num is zero\")"
   ]
  },
  {
   "cell_type": "markdown",
   "metadata": {},
   "source": [
    "Q11:Write a Python program which accepts the radius of a circle from the user and compute the area."
   ]
  },
  {
   "cell_type": "code",
   "execution_count": 14,
   "metadata": {},
   "outputs": [
    {
     "name": "stdout",
     "output_type": "stream",
     "text": [
      "the radius of the circle is :7\n",
      "area of circle:  43.988\n"
     ]
    }
   ],
   "source": [
    "radius = int(input(\"the radius of the circle is :\"))\n",
    "print(\"area of circle: \",2*3.142*radius)"
   ]
  },
  {
   "cell_type": "markdown",
   "metadata": {},
   "source": [
    "Q12:\n",
    "Write a Python function to check whether a number is completely divisible by another number. Accept two integer values form the user"
   ]
  },
  {
   "cell_type": "code",
   "execution_count": 15,
   "metadata": {},
   "outputs": [
    {
     "name": "stdout",
     "output_type": "stream",
     "text": [
      "number1: 7\n",
      "number2: 9\n",
      "7 is not completely divisible by 9\n"
     ]
    }
   ],
   "source": [
    "num = int(input(\"number1: \"))\n",
    "num1= int(input(\"number2: \"))\n",
    "if num//num1:\n",
    "    print(num, \"is completely divisible by\",num1)\n",
    "    \n",
    "else:\n",
    "    print(num, \"is not completely divisible by\",num1)"
   ]
  },
  {
   "cell_type": "markdown",
   "metadata": {},
   "source": [
    "Q13:\n",
    "Write a Python program to find whether a given number (accept from the user) is even or odd, print out an appropriate message to the user."
   ]
  },
  {
   "cell_type": "code",
   "execution_count": 16,
   "metadata": {},
   "outputs": [
    {
     "name": "stdout",
     "output_type": "stream",
     "text": [
      "the number is: 8\n",
      "the number is even\n"
     ]
    }
   ],
   "source": [
    "num = int(input(\"the number is: \"))\n",
    "if num % 2 == 0:\n",
    "    print(\"the number is even\")\n",
    "else:\n",
    "    print(\"the number is odd\")"
   ]
  },
  {
   "cell_type": "markdown",
   "metadata": {},
   "source": [
    "Q14:\n",
    "Print a suitable statement that uses their response. Such as, if they entered “Bangkok”: “I’d love to visit Bangkook more often”."
   ]
  },
  {
   "cell_type": "code",
   "execution_count": 17,
   "metadata": {},
   "outputs": [
    {
     "name": "stdout",
     "output_type": "stream",
     "text": [
      "whre do you want to visit: pak\n",
      "“I’d love to visit pak more often”.\n"
     ]
    }
   ],
   "source": [
    "country = input(\"where do you want to visit: \")\n",
    "print('“I’d love to visit',country,'more often”.')"
   ]
  },
  {
   "cell_type": "markdown",
   "metadata": {},
   "source": [
    "Q15:\n",
    "Write an input line to ask a user whether they want to take the red pill or the blue pill. If they write “red” then print “You stay in wonderland and see how far the rabbit hole goes”. Elif they write “blue” then print “You wake up in your bed and believe what you want to believe.”. Else print “That’s not an option Neo.”"
   ]
  },
  {
   "cell_type": "code",
   "execution_count": 18,
   "metadata": {},
   "outputs": [
    {
     "name": "stdout",
     "output_type": "stream",
     "text": [
      "you want to take the red pill or the blue pill? blue\n",
      "You wake up in your bed and believe what you want to believe.\n"
     ]
    }
   ],
   "source": [
    "pill = input(\"you want to take the red pill or the blue pill? \")\n",
    "if pill == \"red\":\n",
    "    print('You stay in wonderland and see how far the rabbit hole goes.')\n",
    "elif pill == \"blue\":\n",
    "    print('You wake up in your bed and believe what you want to believe.')\n",
    "else:\n",
    "    print('That’s not an option Neo.')"
   ]
  },
  {
   "cell_type": "code",
   "execution_count": null,
   "metadata": {},
   "outputs": [],
   "source": []
  },
  {
   "cell_type": "code",
   "execution_count": null,
   "metadata": {},
   "outputs": [],
   "source": []
  }
 ],
 "metadata": {
  "kernelspec": {
   "display_name": "Python 3",
   "language": "python",
   "name": "python3"
  },
  "language_info": {
   "codemirror_mode": {
    "name": "ipython",
    "version": 3
   },
   "file_extension": ".py",
   "mimetype": "text/x-python",
   "name": "python",
   "nbconvert_exporter": "python",
   "pygments_lexer": "ipython3",
   "version": "3.7.3"
  }
 },
 "nbformat": 4,
 "nbformat_minor": 2
}
