{
 "cells": [
  {
   "cell_type": "markdown",
   "metadata": {},
   "source": [
    "**ASSIGEMENT: To Do List**\n",
    "\n",
    "**NAME: Muhammad Faheem Khan**\n",
    "\n",
    "**ROLL.NO: AIC027435**\n",
    "\n",
    "**6:45PM TO 9:45PM**\n",
    "\n",
    "**CAMPUS SAYLANI HEAD OFFICE**"
   ]
  },
  {
   "cell_type": "code",
   "execution_count": 1,
   "metadata": {},
   "outputs": [
    {
     "name": "stdout",
     "output_type": "stream",
     "text": [
      "['Eating', 'Praying', 'Shopping', 'Reading']\n",
      "Enter task completed: Praying\n",
      "to do list => ['Eating', 'Shopping', 'Reading']\n",
      "task done => ['Praying']\n",
      "Enter task completed: Eating\n",
      "to do list => ['Shopping', 'Reading']\n",
      "task done => ['Praying', 'Eating']\n",
      "Enter task completed: Reading\n",
      "to do list => ['Shopping']\n",
      "task done => ['Praying', 'Eating', 'Reading']\n",
      "Enter task completed: Shopping\n",
      "to do list => []\n",
      "task done => ['Praying', 'Eating', 'Reading', 'Shopping']\n",
      "All tasks completed\n"
     ]
    }
   ],
   "source": [
    "todo = [\"Eating\",\"Praying\",\"Shopping\",\"Reading\"]\n",
    "done = []\n",
    "print(todo)\n",
    "run = True\n",
    "while run:\n",
    "    i = input('Enter task completed: ').title()\n",
    "    if i in todo:\n",
    "        todo.pop(todo.index(i))\n",
    "        done.append(i)\n",
    "        print('to do list =>', todo)\n",
    "        print('task done =>', done)\n",
    "        if len(todo) == 0:\n",
    "            run = False\n",
    "    else:\n",
    "        print('task do not exist.')\n",
    "print('All tasks completed')"
   ]
  },
  {
   "cell_type": "code",
   "execution_count": null,
   "metadata": {},
   "outputs": [],
   "source": []
  }
 ],
 "metadata": {
  "kernelspec": {
   "display_name": "Python 3",
   "language": "python",
   "name": "python3"
  },
  "language_info": {
   "codemirror_mode": {
    "name": "ipython",
    "version": 3
   },
   "file_extension": ".py",
   "mimetype": "text/x-python",
   "name": "python",
   "nbconvert_exporter": "python",
   "pygments_lexer": "ipython3",
   "version": "3.7.3"
  }
 },
 "nbformat": 4,
 "nbformat_minor": 2
}
